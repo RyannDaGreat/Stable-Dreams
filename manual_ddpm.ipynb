{
 "cells": [
  {
   "cell_type": "code",
   "execution_count": 6,
   "id": "fbe09d81-2aad-44ba-8c2d-f732b0e5a51a",
   "metadata": {},
   "outputs": [],
   "source": [
    "from icecream import ic\n",
    "import numpy as np\n",
    "import rp\n",
    "import torch\n",
    "import torch.nn as nn\n",
    "from source.stable_diffusion import StableDiffusion\n",
    "from easydict import EasyDict\n",
    "from source.learnable_textures import (LearnableImageFourier,\n",
    "                                       LearnableImageFourierBilateral,\n",
    "                                       LearnableImageRaster,\n",
    "                                       LearnableImageRasterBilateral,\n",
    "                                       LearnableTexturePackFourier,\n",
    "                                       LearnableTexturePackRaster)"
   ]
  },
  {
   "cell_type": "code",
   "execution_count": 2,
   "id": "5a447889-f0e0-437a-a121-384b5bcacfe6",
   "metadata": {},
   "outputs": [
    {
     "name": "stdout",
     "output_type": "stream",
     "text": [
      "[INFO] sd.py: loading stable diffusion...please make sure you have run `huggingface-cli login`.\n"
     ]
    },
    {
     "data": {
      "application/vnd.jupyter.widget-view+json": {
       "model_id": "2e5148e560d5418aa92356b7853565f5",
       "version_major": 2,
       "version_minor": 0
      },
      "text/plain": [
       "Fetching 19 files:   0%|          | 0/19 [00:00<?, ?it/s]"
      ]
     },
     "metadata": {},
     "output_type": "display_data"
    },
    {
     "name": "stdout",
     "output_type": "stream",
     "text": [
      "[INFO] sd.py: loaded stable diffusion!\n"
     ]
    }
   ],
   "source": [
    "if 's' not in dir():\n",
    "    model_name=\"CompVis/stable-diffusion-v1-4\"\n",
    "    gpu='cuda:1'\n",
    "    s=StableDiffusion(gpu,model_name)\n",
    "device=s.device"
   ]
  },
  {
   "cell_type": "code",
   "execution_count": 20,
   "id": "704a4efd-a770-4541-9d04-2bba993cf680",
   "metadata": {},
   "outputs": [
    {
     "data": {
      "text/plain": [
       "tensor([[-0.3884,  0.0229, -0.0522,  ..., -0.4899, -0.3066,  0.0675],\n",
       "        [-1.2061, -0.5991,  1.5715,  ..., -1.5062,  0.2366, -0.3361],\n",
       "        [ 0.4694, -0.4625,  1.2672,  ...,  0.1284,  0.1081, -1.1094],\n",
       "        ...,\n",
       "        [-0.3598, -0.5160,  0.3769,  ...,  0.7312, -0.5609, -1.3857],\n",
       "        [-0.3500, -0.5058,  0.3600,  ...,  0.7610, -0.5657, -1.3863],\n",
       "        [-0.3219, -0.4319,  0.4588,  ...,  0.7126, -0.5477, -1.4207]],\n",
       "       device='cuda:1')"
      ]
     },
     "execution_count": 20,
     "metadata": {},
     "output_type": "execute_result"
    }
   ],
   "source": [
    "@rp.monkey_patch(StableDiffusion)\n",
    "def get_text_embedding(self, prompt: str)->torch.Tensor:\n",
    "    assert isinstance(prompt, str)\n",
    "\n",
    "    # Tokenize text and get embeddings\n",
    "    text_input = self.tokenizer(\n",
    "        [prompt],\n",
    "        padding='max_length', \n",
    "        max_length=self.tokenizer.model_max_length,\n",
    "        truncation=True, \n",
    "        return_tensors='pt'\n",
    "    ).input_ids.to(self.device)\n",
    "\n",
    "    with torch.no_grad():\n",
    "        text_embeddings = self.text_encoder(text_input).last_hidden_state\n",
    "        \n",
    "    assert len(text_embeddings)==1\n",
    "    text_embedding = text_embeddings[0]\n",
    "\n",
    "    assert text_embedding.shape == (77, 768)\n",
    "\n",
    "    return text_embedding\n",
    "\n",
    "\n",
    "s.get_text_embedding(\"GEI\")\n"
   ]
  },
  {
   "cell_type": "code",
   "execution_count": 3,
   "id": "6342ced9-ac29-4019-8d8c-e68b1195c1ac",
   "metadata": {},
   "outputs": [],
   "source": [
    "def initial_noise():\n",
    "    return torch.randn(4,64,64).to(device)"
   ]
  },
  {
   "cell_type": "code",
   "execution_count": 4,
   "id": "b86e2c0a-c4a1-4963-bf7a-db7183899982",
   "metadata": {},
   "outputs": [
    {
     "ename": "AttributeError",
     "evalue": "'StableDiffusion' object has no attribute 'get_text_embeddings'",
     "output_type": "error",
     "traceback": [
      "\u001b[0;31m---------------------------------------------------------------------------\u001b[0m",
      "\u001b[0;31mAttributeError\u001b[0m                            Traceback (most recent call last)",
      "Input \u001b[0;32mIn [4]\u001b[0m, in \u001b[0;36m<cell line: 2>\u001b[0;34m()\u001b[0m\n\u001b[1;32m      1\u001b[0m prompt \u001b[38;5;241m=\u001b[39m \u001b[38;5;124m'\u001b[39m\u001b[38;5;124mbig juicy hamburger with cheese and tomato and lettuice. Sesame seed bun. Advertisement beautiful dlsr hdr bokeh. \u001b[39m\u001b[38;5;124m'\u001b[39m \n\u001b[0;32m----> 2\u001b[0m embeddings \u001b[38;5;241m=\u001b[39m \u001b[43ms\u001b[49m\u001b[38;5;241;43m.\u001b[39;49m\u001b[43mget_text_embeddings\u001b[49m(prompt)\n",
      "File \u001b[0;32m~/.local/lib/python3.8/site-packages/torch/nn/modules/module.py:1185\u001b[0m, in \u001b[0;36mModule.__getattr__\u001b[0;34m(self, name)\u001b[0m\n\u001b[1;32m   1183\u001b[0m     \u001b[38;5;28;01mif\u001b[39;00m name \u001b[38;5;129;01min\u001b[39;00m modules:\n\u001b[1;32m   1184\u001b[0m         \u001b[38;5;28;01mreturn\u001b[39;00m modules[name]\n\u001b[0;32m-> 1185\u001b[0m \u001b[38;5;28;01mraise\u001b[39;00m \u001b[38;5;167;01mAttributeError\u001b[39;00m(\u001b[38;5;124m\"\u001b[39m\u001b[38;5;124m'\u001b[39m\u001b[38;5;132;01m{}\u001b[39;00m\u001b[38;5;124m'\u001b[39m\u001b[38;5;124m object has no attribute \u001b[39m\u001b[38;5;124m'\u001b[39m\u001b[38;5;132;01m{}\u001b[39;00m\u001b[38;5;124m'\u001b[39m\u001b[38;5;124m\"\u001b[39m\u001b[38;5;241m.\u001b[39mformat(\n\u001b[1;32m   1186\u001b[0m     \u001b[38;5;28mtype\u001b[39m(\u001b[38;5;28mself\u001b[39m)\u001b[38;5;241m.\u001b[39m\u001b[38;5;18m__name__\u001b[39m, name))\n",
      "\u001b[0;31mAttributeError\u001b[0m: 'StableDiffusion' object has no attribute 'get_text_embeddings'"
     ]
    }
   ],
   "source": [
    "prompt = 'big juicy hamburger with cheese and tomato and lettuice. Sesame seed bun. Advertisement beautiful dlsr hdr bokeh. ' \n",
    "embeddings = s.get_text_embeddings(prompt)"
   ]
  },
  {
   "cell_type": "code",
   "execution_count": null,
   "id": "bc0b911a-9880-4814-8036-ca3a0822d31b",
   "metadata": {},
   "outputs": [],
   "source": [
    "latent = initial_noise()"
   ]
  },
  {
   "cell_type": "code",
   "execution_count": null,
   "id": "5078e1e4-4a8b-4ea2-ac20-c2038b187881",
   "metadata": {},
   "outputs": [],
   "source": [
    "def display_latent(latent):\n",
    "    image = s.decode_latent(latent)\n",
    "    image = rp.as_numpy_image(image)\n",
    "    rp.display_image(image)"
   ]
  },
  {
   "cell_type": "code",
   "execution_count": null,
   "id": "5b1e30c4-3a20-4935-93be-ad4fd42eac29",
   "metadata": {},
   "outputs": [],
   "source": [
    "display_latent(latent)"
   ]
  },
  {
   "cell_type": "code",
   "execution_count": null,
   "id": "a1657ee7-cbeb-46af-97ea-b84656e41a5a",
   "metadata": {},
   "outputs": [],
   "source": [
    "def ddim_step(latent, embedding, t):\n",
    "    noise = torch.randn_like(latent)\n",
    "    \n",
    "    "
   ]
  },
  {
   "cell_type": "code",
   "execution_count": null,
   "id": "a9155b28-d1a7-467c-89b3-eed78b72a8a9",
   "metadata": {},
   "outputs": [],
   "source": [
    "for t in range(1,1000,1000//50):\n",
    "    \n",
    "    "
   ]
  }
 ],
 "metadata": {
  "kernelspec": {
   "display_name": "Python 3 (ipykernel)",
   "language": "python",
   "name": "python3"
  },
  "language_info": {
   "codemirror_mode": {
    "name": "ipython",
    "version": 3
   },
   "file_extension": ".py",
   "mimetype": "text/x-python",
   "name": "python",
   "nbconvert_exporter": "python",
   "pygments_lexer": "ipython3",
   "version": "3.8.10"
  }
 },
 "nbformat": 4,
 "nbformat_minor": 5
}
