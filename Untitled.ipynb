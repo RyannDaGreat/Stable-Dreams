{
 "cells": [
  {
   "cell_type": "code",
   "execution_count": null,
   "id": "d290f217-bc39-4fba-a9b2-b62e11e148a4",
   "metadata": {},
   "outputs": [],
   "source": [
    "#!pip install diffusers transformers scipy torch\n",
    "from diffusers import StableDiffusionPipeline\n",
    "import torch\n",
    "import rp\n",
    "\n",
    "model_id = \"nitrosocke/Arcane-Diffusion\"\n",
    "model_id = \"/home/ryan/CleanCode/Datasets/models/stable_diffusion/v1_4/dreambooths/dreambooth-kurokiyousei-2000step-1666174076529\"\n",
    "pipe = StableDiffusionPipeline.from_pretrained(model_id, torch_dtype=torch.float)\n",
    "pipe = pipe.to(\"cuda\")\n",
    "\n",
    "#################################\n",
    "\n",
    "prompts=[\n",
    "    # \"arcane style, hatsune miku\",\n",
    "    # \"arcane style, a puppy with two heads\",\n",
    "    # \"arcane style, a cylon\",\n",
    "    # \"kurokiyousei hatsune miku\",\n",
    "    # \"hatsune miku\",\n",
    "    \"shrek\"\n",
    "]*5\n",
    "\n",
    "for prompt in prompts:\n",
    "    image = pipe(prompt)['sample'][0]\n",
    "    with rp.SetCurrentDirectoryTemporarily(rp.make_directory('untracked/image_dump')):\n",
    "        print('Saved:',\n",
    "              rp.save_image(image,\n",
    "                            '%s__%i'%(prompt, rp.millis())\n",
    "                           )\n",
    "             )\n",
    "    rp.display_image(image)"
   ]
  },
  {
   "cell_type": "code",
   "execution_count": null,
   "id": "6eae4997-4ac4-4dc5-86e9-bd3aec96aba8",
   "metadata": {},
   "outputs": [],
   "source": []
  }
 ],
 "metadata": {
  "kernelspec": {
   "display_name": "Python 3 (ipykernel)",
   "language": "python",
   "name": "python3"
  },
  "language_info": {
   "codemirror_mode": {
    "name": "ipython",
    "version": 3
   },
   "file_extension": ".py",
   "mimetype": "text/x-python",
   "name": "python",
   "nbconvert_exporter": "python",
   "pygments_lexer": "ipython3",
   "version": "3.8.10"
  }
 },
 "nbformat": 4,
 "nbformat_minor": 5
}
