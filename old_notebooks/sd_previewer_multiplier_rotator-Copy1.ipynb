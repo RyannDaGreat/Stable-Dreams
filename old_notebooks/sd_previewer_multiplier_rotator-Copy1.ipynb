{
 "cells": [
  {
   "cell_type": "code",
   "execution_count": null,
   "id": "e0ec7b35-00c7-4ec8-beb3-205a09d1f5d0",
   "metadata": {},
   "outputs": [],
   "source": [
    "import torch"
   ]
  },
  {
   "cell_type": "code",
   "execution_count": null,
   "id": "fcc8c8a9-1478-4ede-a485-2d09d7f39efc",
   "metadata": {},
   "outputs": [],
   "source": [
    "class Thing(torch.nn.Module):\n",
    "    def __init__(self):\n",
    "        super().__init__()\n",
    "        self.tensor=torch.nn.Linear(1024,1024)"
   ]
  },
  {
   "cell_type": "code",
   "execution_count": null,
   "id": "8b57e100-150d-4414-b9d1-8067e34f306d",
   "metadata": {},
   "outputs": [],
   "source": [
    "thing = Thing().cuda()"
   ]
  },
  {
   "cell_type": "code",
   "execution_count": null,
   "id": "634c71f9-148d-413e-9447-45168ba57a5a",
   "metadata": {},
   "outputs": [],
   "source": [
    "print(\"Junk\")\n",
    "thing = Thing().cuda()"
   ]
  },
  {
   "cell_type": "code",
   "execution_count": null,
   "id": "7bb6e28d-d739-4fa8-9af4-715907e0cf70",
   "metadata": {},
   "outputs": [],
   "source": [
    "thing = Thing().cuda()"
   ]
  },
  {
   "cell_type": "code",
   "execution_count": null,
   "id": "801e6866-ad8b-4955-883e-55ecc7765b02",
   "metadata": {},
   "outputs": [],
   "source": [
    "from source.learnable_textures import LearnableImageFourier"
   ]
  },
  {
   "cell_type": "code",
   "execution_count": null,
   "id": "5ee969f6-cb79-4059-be61-48bf9cf761d9",
   "metadata": {},
   "outputs": [],
   "source": [
    "aoi=LearnableImageFourier().cuda()"
   ]
  },
  {
   "cell_type": "code",
   "execution_count": null,
   "id": "25f47d22-97e1-41da-9d7c-9f049f9f0504",
   "metadata": {},
   "outputs": [],
   "source": [
    "aoi=LearnableImageFourier().cuda()"
   ]
  },
  {
   "cell_type": "code",
   "execution_count": null,
   "id": "5c2d4e34-3521-4757-9499-ce5e8067e59d",
   "metadata": {},
   "outputs": [],
   "source": [
    "aoi=LearnableImageFourier().cuda()"
   ]
  },
  {
   "cell_type": "code",
   "execution_count": null,
   "id": "9c844132-5a0b-4362-b259-01cefe409d6c",
   "metadata": {},
   "outputs": [],
   "source": [
    "print(\"HEHA\")\n",
    "thing = Thing().cuda()"
   ]
  },
  {
   "cell_type": "code",
   "execution_count": null,
   "id": "bff51f08-d28f-4128-be6f-b7947b39a021",
   "metadata": {},
   "outputs": [],
   "source": [
    "tensor = torch.rand(1024).cuda() # Take up some vram\n",
    "#1877MiB"
   ]
  },
  {
   "cell_type": "code",
   "execution_count": null,
   "id": "9c94c6ba-e239-4de6-9f50-d5a77e5e56e0",
   "metadata": {},
   "outputs": [],
   "source": [
    "tensor = torch.rand(1024).cuda() # Take up some vram\n",
    "#1961MiB"
   ]
  },
  {
   "cell_type": "code",
   "execution_count": null,
   "id": "4aefbce7-522d-40b6-92c4-ab9ace6c1f78",
   "metadata": {},
   "outputs": [],
   "source": [
    "tensor = torch.rand(1024).cuda() # Take up some vram\n",
    "#1961MiB"
   ]
  },
  {
   "cell_type": "code",
   "execution_count": null,
   "id": "14fe01e2-6a4d-4882-90b6-59ee92422142",
   "metadata": {},
   "outputs": [],
   "source": [
    "print(\"Hello World!\")"
   ]
  },
  {
   "cell_type": "code",
   "execution_count": null,
   "id": "c64c6b1d-e0e5-4bf1-9cca-caf6fb407123",
   "metadata": {},
   "outputs": [],
   "source": [
    "print('sodif')\n",
    "tensor = torch.rand(1024).cuda() # Take up some vram\n"
   ]
  },
  {
   "cell_type": "code",
   "execution_count": null,
   "id": "77ac0077-f8af-4029-8276-9e250aee8119",
   "metadata": {},
   "outputs": [],
   "source": []
  }
 ],
 "metadata": {
  "kernelspec": {
   "display_name": "Python 3 (ipykernel)",
   "language": "python",
   "name": "python3"
  },
  "language_info": {
   "codemirror_mode": {
    "name": "ipython",
    "version": 3
   },
   "file_extension": ".py",
   "mimetype": "text/x-python",
   "name": "python",
   "nbconvert_exporter": "python",
   "pygments_lexer": "ipython3",
   "version": "3.8.10"
  }
 },
 "nbformat": 4,
 "nbformat_minor": 5
}
